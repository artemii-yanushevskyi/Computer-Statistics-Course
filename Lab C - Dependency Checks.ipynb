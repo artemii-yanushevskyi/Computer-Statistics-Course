{
 "cells": [
  {
   "cell_type": "code",
   "execution_count": 21,
   "metadata": {},
   "outputs": [
    {
     "data": {
      "text/html": [
       "<div>\n",
       "<style scoped>\n",
       "    .dataframe tbody tr th:only-of-type {\n",
       "        vertical-align: middle;\n",
       "    }\n",
       "\n",
       "    .dataframe tbody tr th {\n",
       "        vertical-align: top;\n",
       "    }\n",
       "\n",
       "    .dataframe thead th {\n",
       "        text-align: right;\n",
       "    }\n",
       "</style>\n",
       "<table border=\"1\" class=\"dataframe\">\n",
       "  <thead>\n",
       "    <tr style=\"text-align: right;\">\n",
       "      <th></th>\n",
       "      <th>R</th>\n",
       "      <th>AGE</th>\n",
       "      <th>S</th>\n",
       "      <th>ED</th>\n",
       "      <th>EX0</th>\n",
       "      <th>EX1</th>\n",
       "      <th>LF</th>\n",
       "      <th>M</th>\n",
       "      <th>N</th>\n",
       "      <th>NW</th>\n",
       "      <th>U1</th>\n",
       "      <th>U2</th>\n",
       "      <th>W</th>\n",
       "      <th>X</th>\n",
       "    </tr>\n",
       "  </thead>\n",
       "  <tbody>\n",
       "    <tr>\n",
       "      <th>1</th>\n",
       "      <td>79.1</td>\n",
       "      <td>151.0</td>\n",
       "      <td>1.0</td>\n",
       "      <td>91.0</td>\n",
       "      <td>58.0</td>\n",
       "      <td>56.0</td>\n",
       "      <td>510.0</td>\n",
       "      <td>950.0</td>\n",
       "      <td>33.0</td>\n",
       "      <td>301.0</td>\n",
       "      <td>108.0</td>\n",
       "      <td>41.0</td>\n",
       "      <td>394.0</td>\n",
       "      <td>261.0</td>\n",
       "    </tr>\n",
       "    <tr>\n",
       "      <th>2</th>\n",
       "      <td>163.5</td>\n",
       "      <td>143.0</td>\n",
       "      <td>0.0</td>\n",
       "      <td>113.0</td>\n",
       "      <td>103.0</td>\n",
       "      <td>95.0</td>\n",
       "      <td>583.0</td>\n",
       "      <td>1012.0</td>\n",
       "      <td>13.0</td>\n",
       "      <td>102.0</td>\n",
       "      <td>96.0</td>\n",
       "      <td>36.0</td>\n",
       "      <td>557.0</td>\n",
       "      <td>194.0</td>\n",
       "    </tr>\n",
       "    <tr>\n",
       "      <th>3</th>\n",
       "      <td>57.8</td>\n",
       "      <td>142.0</td>\n",
       "      <td>1.0</td>\n",
       "      <td>89.0</td>\n",
       "      <td>45.0</td>\n",
       "      <td>44.0</td>\n",
       "      <td>533.0</td>\n",
       "      <td>969.0</td>\n",
       "      <td>18.0</td>\n",
       "      <td>219.0</td>\n",
       "      <td>94.0</td>\n",
       "      <td>33.0</td>\n",
       "      <td>318.0</td>\n",
       "      <td>250.0</td>\n",
       "    </tr>\n",
       "    <tr>\n",
       "      <th>4</th>\n",
       "      <td>196.9</td>\n",
       "      <td>136.0</td>\n",
       "      <td>0.0</td>\n",
       "      <td>121.0</td>\n",
       "      <td>149.0</td>\n",
       "      <td>141.0</td>\n",
       "      <td>577.0</td>\n",
       "      <td>994.0</td>\n",
       "      <td>157.0</td>\n",
       "      <td>80.0</td>\n",
       "      <td>102.0</td>\n",
       "      <td>39.0</td>\n",
       "      <td>673.0</td>\n",
       "      <td>167.0</td>\n",
       "    </tr>\n",
       "    <tr>\n",
       "      <th>5</th>\n",
       "      <td>123.4</td>\n",
       "      <td>141.0</td>\n",
       "      <td>0.0</td>\n",
       "      <td>121.0</td>\n",
       "      <td>109.0</td>\n",
       "      <td>101.0</td>\n",
       "      <td>591.0</td>\n",
       "      <td>985.0</td>\n",
       "      <td>18.0</td>\n",
       "      <td>30.0</td>\n",
       "      <td>91.0</td>\n",
       "      <td>20.0</td>\n",
       "      <td>578.0</td>\n",
       "      <td>174.0</td>\n",
       "    </tr>\n",
       "  </tbody>\n",
       "</table>\n",
       "</div>"
      ],
      "text/plain": [
       "       R    AGE    S     ED    EX0    EX1     LF       M      N     NW     U1  \\\n",
       "1   79.1  151.0  1.0   91.0   58.0   56.0  510.0   950.0   33.0  301.0  108.0   \n",
       "2  163.5  143.0  0.0  113.0  103.0   95.0  583.0  1012.0   13.0  102.0   96.0   \n",
       "3   57.8  142.0  1.0   89.0   45.0   44.0  533.0   969.0   18.0  219.0   94.0   \n",
       "4  196.9  136.0  0.0  121.0  149.0  141.0  577.0   994.0  157.0   80.0  102.0   \n",
       "5  123.4  141.0  0.0  121.0  109.0  101.0  591.0   985.0   18.0   30.0   91.0   \n",
       "\n",
       "     U2      W      X  \n",
       "1  41.0  394.0  261.0  \n",
       "2  36.0  557.0  194.0  \n",
       "3  33.0  318.0  250.0  \n",
       "4  39.0  673.0  167.0  \n",
       "5  20.0  578.0  174.0  "
      ]
     },
     "execution_count": 21,
     "metadata": {},
     "output_type": "execute_result"
    }
   ],
   "source": [
    "import pandas as pd\n",
    "\n",
    "exel = pd.ExcelFile('crime.xls')\n",
    "exel.sheet_names\n",
    "\n",
    "df = exel.parse('Лист1')\n",
    "df = df.astype(np.float64)\n",
    "\n",
    "\n",
    "df.head()"
   ]
  },
  {
   "cell_type": "markdown",
   "metadata": {},
   "source": [
    "\n",
    "R: Crime rate: # of offenses reported to police per million population \n",
    "\n",
    "Age: The number of males of age 14-24 per 1000 population \n",
    "\n",
    "S: Indicator variable for Southern states (0 = No, 1 = Yes) \n",
    "\n",
    "Ed: Mean # of years of schooling x 10 for persons of age 25 or older \n",
    "\n",
    "Ex0: 1960 per capita expenditure on police by state and local government \n",
    "\n",
    "Ex1: 1959 per capita expenditure on police by state and local government \n",
    "\n",
    "LF: Labor force participation rate per 1000 civilian urban males age 14-24 \n",
    "\n",
    "M: The number of males per 1000 females \n",
    "\n",
    "N: State population size in hundred thousands \n",
    "\n",
    "NW: The number of non-whites per 1000 population \n",
    "\n",
    "U1: Unemployment rate of urban males per 1000 of age 14-24 \n",
    "\n",
    "U2: Unemployment rate of urban males per 1000 of age 35-39 \n",
    "\n",
    "W: Median value of transferable goods and assets or family income in tens of $ \n",
    "\n",
    "X: The number of families per 1000 earning below 1/2 the median income \n"
   ]
  },
  {
   "cell_type": "markdown",
   "metadata": {},
   "source": [
    "\n",
    "# Calculate The Influence of _ED_ and _NW_ on _R_"
   ]
  },
  {
   "cell_type": "code",
   "execution_count": 49,
   "metadata": {},
   "outputs": [],
   "source": [
    "ed = df[['ED']].values\n",
    "nw = df[['NW']].values\n",
    "r = df[['R']].values"
   ]
  },
  {
   "cell_type": "code",
   "execution_count": 50,
   "metadata": {},
   "outputs": [],
   "source": [
    "import numpy as np\n",
    "X = np.concatenate([ed,nw], axis=1)\n",
    "\n",
    "from sklearn import preprocessing\n",
    "X = preprocessing.StandardScaler().fit(X).transform(X)"
   ]
  },
  {
   "cell_type": "code",
   "execution_count": 51,
   "metadata": {},
   "outputs": [
    {
     "data": {
      "text/plain": [
       "array([0.        , 0.13223075])"
      ]
     },
     "execution_count": 51,
     "metadata": {},
     "output_type": "execute_result"
    }
   ],
   "source": [
    "from sklearn.feature_selection import mutual_info_regression\n",
    "mutual_info_regression(X, np.squeeze(r))"
   ]
  },
  {
   "cell_type": "markdown",
   "metadata": {},
   "source": [
    "Are NW values being a stronger predictor of R than ED."
   ]
  },
  {
   "cell_type": "code",
   "execution_count": 52,
   "metadata": {},
   "outputs": [
    {
     "data": {
      "text/plain": [
       "('independent', array([1.28168949e-110]))"
      ]
     },
     "execution_count": 52,
     "metadata": {},
     "output_type": "execute_result"
    }
   ],
   "source": [
    "import scipy.stats as stats\n",
    "\n",
    "chisq, p_value = stats.chisquare(r, ed)\n",
    "chisq, p_value\n",
    "\n",
    "alpha = 0.05\n",
    "\"independent\" if p_value < alpha else 'dependent', p_value"
   ]
  },
  {
   "cell_type": "code",
   "execution_count": 53,
   "metadata": {},
   "outputs": [
    {
     "data": {
      "text/plain": [
       "('independent', array([0.]))"
      ]
     },
     "execution_count": 53,
     "metadata": {},
     "output_type": "execute_result"
    }
   ],
   "source": [
    "import scipy.stats as stats\n",
    "\n",
    "chisq, p_value = stats.chisquare(r, nw)\n",
    "chisq, p_value\n",
    "\n",
    "alpha = 0.05\n",
    "\"independent\" if p_value < alpha else 'dependent', p_value"
   ]
  },
  {
   "cell_type": "markdown",
   "metadata": {},
   "source": [
    "# Build Linear Model"
   ]
  },
  {
   "cell_type": "code",
   "execution_count": 58,
   "metadata": {},
   "outputs": [
    {
     "name": "stdout",
     "output_type": "stream",
     "text": [
      "Coefficients:  [23.62621367 16.95595822] 90.50851063829788\n"
     ]
    }
   ],
   "source": [
    "from sklearn import linear_model\n",
    "regr = linear_model.LinearRegression()\n",
    "regr.fit(X, y)\n",
    "# The coefficients\n",
    "print('Coefficients: ', regr.coef_, regr.intercept_)"
   ]
  },
  {
   "cell_type": "code",
   "execution_count": 62,
   "metadata": {},
   "outputs": [
    {
     "data": {
      "text/plain": [
       "0.21378861933660565"
      ]
     },
     "execution_count": 62,
     "metadata": {},
     "output_type": "execute_result"
    }
   ],
   "source": [
    "regr.score(X, y) # Returns the coefficient of determination R^2 of the prediction."
   ]
  },
  {
   "cell_type": "code",
   "execution_count": 64,
   "metadata": {},
   "outputs": [
    {
     "name": "stdout",
     "output_type": "stream",
     "text": [
      "                            OLS Regression Results                            \n",
      "==============================================================================\n",
      "Dep. Variable:                      R   R-squared:                       0.032\n",
      "Model:                            OLS   Adj. R-squared:                 -0.011\n",
      "Method:                 Least Squares   F-statistic:                    0.7538\n",
      "Date:                Fri, 30 Nov 2018   Prob (F-statistic):              0.476\n",
      "Time:                        16:28:11   Log-Likelihood:                -281.54\n",
      "No. Observations:                  47   AIC:                             567.1\n",
      "Df Residuals:                      45   BIC:                             570.8\n",
      "Df Model:                           2                                         \n",
      "Covariance Type:            nonrobust                                         \n",
      "==============================================================================\n",
      "                 coef    std err          t      P>|t|      [0.025      0.975]\n",
      "------------------------------------------------------------------------------\n",
      "x1            23.6262     19.290      1.225      0.227     -15.227      62.479\n",
      "x2            16.9560     19.290      0.879      0.384     -21.897      55.809\n",
      "==============================================================================\n",
      "Omnibus:                        5.179   Durbin-Watson:                   0.323\n",
      "Prob(Omnibus):                  0.075   Jarque-Bera (JB):                4.614\n",
      "Skew:                           0.767   Prob(JB):                       0.0995\n",
      "Kurtosis:                       3.044   Cond. No.                         2.23\n",
      "==============================================================================\n",
      "\n",
      "Warnings:\n",
      "[1] Standard Errors assume that the covariance matrix of the errors is correctly specified.\n"
     ]
    }
   ],
   "source": [
    "import statsmodels.api as sm\n",
    "from scipy import stats\n",
    "\n",
    "est = sm.OLS(y, X).fit()\n",
    "print(est.summary())"
   ]
  },
  {
   "cell_type": "code",
   "execution_count": null,
   "metadata": {},
   "outputs": [],
   "source": []
  }
 ],
 "metadata": {
  "kernelspec": {
   "display_name": "Python 3",
   "language": "python",
   "name": "python3"
  },
  "language_info": {
   "codemirror_mode": {
    "name": "ipython",
    "version": 3
   },
   "file_extension": ".py",
   "mimetype": "text/x-python",
   "name": "python",
   "nbconvert_exporter": "python",
   "pygments_lexer": "ipython3",
   "version": "3.7.0"
  }
 },
 "nbformat": 4,
 "nbformat_minor": 2
}
