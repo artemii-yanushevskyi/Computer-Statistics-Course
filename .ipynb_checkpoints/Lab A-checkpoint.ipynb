{
 "cells": [
  {
   "cell_type": "code",
   "execution_count": 1,
   "metadata": {},
   "outputs": [
    {
     "data": {
      "text/html": [
       "<div>\n",
       "<style scoped>\n",
       "    .dataframe tbody tr th:only-of-type {\n",
       "        vertical-align: middle;\n",
       "    }\n",
       "\n",
       "    .dataframe tbody tr th {\n",
       "        vertical-align: top;\n",
       "    }\n",
       "\n",
       "    .dataframe thead th {\n",
       "        text-align: right;\n",
       "    }\n",
       "</style>\n",
       "<table border=\"1\" class=\"dataframe\">\n",
       "  <thead>\n",
       "    <tr style=\"text-align: right;\">\n",
       "      <th></th>\n",
       "      <th>No</th>\n",
       "      <th>La</th>\n",
       "      <th>LN</th>\n",
       "      <th>Ch</th>\n",
       "      <th>Un</th>\n",
       "      <th>Nl</th>\n",
       "      <th>Ls</th>\n",
       "      <th>C3</th>\n",
       "      <th>U3</th>\n",
       "      <th>Lo</th>\n",
       "    </tr>\n",
       "  </thead>\n",
       "  <tbody>\n",
       "    <tr>\n",
       "      <th>0</th>\n",
       "      <td>2.638118</td>\n",
       "      <td>1.559936</td>\n",
       "      <td>5.796803</td>\n",
       "      <td>2.106319</td>\n",
       "      <td>2.388562</td>\n",
       "      <td>-2.891846</td>\n",
       "      <td>2.194869</td>\n",
       "      <td>2.883311</td>\n",
       "      <td>5.818445</td>\n",
       "      <td>70.021492</td>\n",
       "    </tr>\n",
       "    <tr>\n",
       "      <th>1</th>\n",
       "      <td>2.939677</td>\n",
       "      <td>1.106321</td>\n",
       "      <td>3.120341</td>\n",
       "      <td>5.040086</td>\n",
       "      <td>2.757530</td>\n",
       "      <td>-2.356624</td>\n",
       "      <td>0.835470</td>\n",
       "      <td>4.318595</td>\n",
       "      <td>5.773400</td>\n",
       "      <td>114.122601</td>\n",
       "    </tr>\n",
       "    <tr>\n",
       "      <th>2</th>\n",
       "      <td>2.036079</td>\n",
       "      <td>1.202140</td>\n",
       "      <td>23.299866</td>\n",
       "      <td>3.966322</td>\n",
       "      <td>3.585284</td>\n",
       "      <td>-2.740712</td>\n",
       "      <td>3.455526</td>\n",
       "      <td>12.033311</td>\n",
       "      <td>3.758904</td>\n",
       "      <td>102.786300</td>\n",
       "    </tr>\n",
       "    <tr>\n",
       "      <th>3</th>\n",
       "      <td>4.073466</td>\n",
       "      <td>1.192179</td>\n",
       "      <td>9.952675</td>\n",
       "      <td>3.882852</td>\n",
       "      <td>2.892209</td>\n",
       "      <td>0.038125</td>\n",
       "      <td>0.599163</td>\n",
       "      <td>17.623683</td>\n",
       "      <td>3.209204</td>\n",
       "      <td>9.499374</td>\n",
       "    </tr>\n",
       "    <tr>\n",
       "      <th>4</th>\n",
       "      <td>4.673323</td>\n",
       "      <td>1.839849</td>\n",
       "      <td>4.193463</td>\n",
       "      <td>2.971356</td>\n",
       "      <td>3.083651</td>\n",
       "      <td>2.085697</td>\n",
       "      <td>0.028275</td>\n",
       "      <td>6.324346</td>\n",
       "      <td>3.087344</td>\n",
       "      <td>39.115391</td>\n",
       "    </tr>\n",
       "  </tbody>\n",
       "</table>\n",
       "</div>"
      ],
      "text/plain": [
       "         No        La         LN        Ch        Un        Nl        Ls  \\\n",
       "0  2.638118  1.559936   5.796803  2.106319  2.388562 -2.891846  2.194869   \n",
       "1  2.939677  1.106321   3.120341  5.040086  2.757530 -2.356624  0.835470   \n",
       "2  2.036079  1.202140  23.299866  3.966322  3.585284 -2.740712  3.455526   \n",
       "3  4.073466  1.192179   9.952675  3.882852  2.892209  0.038125  0.599163   \n",
       "4  4.673323  1.839849   4.193463  2.971356  3.083651  2.085697  0.028275   \n",
       "\n",
       "          C3        U3          Lo  \n",
       "0   2.883311  5.818445   70.021492  \n",
       "1   4.318595  5.773400  114.122601  \n",
       "2  12.033311  3.758904  102.786300  \n",
       "3  17.623683  3.209204    9.499374  \n",
       "4   6.324346  3.087344   39.115391  "
      ]
     },
     "execution_count": 1,
     "metadata": {},
     "output_type": "execute_result"
    }
   ],
   "source": [
    "import pandas as pd\n",
    "xl = pd.ExcelFile('distrib.xls')\n",
    "df = xl.parse('Лист1')\n",
    "df.head()"
   ]
  },
  {
   "cell_type": "code",
   "execution_count": 2,
   "metadata": {},
   "outputs": [
    {
     "data": {
      "text/plain": [
       "<Figure size 640x480 with 1 Axes>"
      ]
     },
     "metadata": {},
     "output_type": "display_data"
    }
   ],
   "source": [
    "X = df[['Ch']].values\n",
    "import matplotlib.pyplot as plt\n",
    "plt.hist(X,bins=30)\n",
    "plt.show()"
   ]
  },
  {
   "cell_type": "markdown",
   "metadata": {},
   "source": [
    "It is hard to judge if it is normal. Notice that we don't have any values less than 0."
   ]
  },
  {
   "cell_type": "code",
   "execution_count": 3,
   "metadata": {},
   "outputs": [
    {
     "data": {
      "image/png": "[encoded data removed]",
      "text/plain": [
       "<Figure size 432x288 with 1 Axes>"
      ]
     },
     "metadata": {
      "needs_background": "light"
     },
     "output_type": "display_data"
    }
   ],
   "source": [
    "plt.boxplot(X)\n",
    "plt.show()"
   ]
  },
  {
   "cell_type": "code",
   "execution_count": 4,
   "metadata": {},
   "outputs": [
    {
     "data": {
      "image/png": "[encoded data removed]",
      "text/plain": [
       "<Figure size 432x288 with 1 Axes>"
      ]
     },
     "metadata": {
      "needs_background": "light"
     },
     "output_type": "display_data"
    },
    {
     "name": "stderr",
     "output_type": "stream",
     "text": [
      "/anaconda3/lib/python3.7/site-packages/scipy/stats/stats.py:1713: FutureWarning: Using a non-tuple sequence for multidimensional indexing is deprecated; use `arr[tuple(seq)]` instead of `arr[seq]`. In the future this will be interpreted as an array index, `arr[np.array(seq)]`, which will result either in an error or a different result.\n",
      "  return np.add.reduce(sorted[indexer] * weights, axis=axis) / sumval\n"
     ]
    },
    {
     "data": {
      "image/png": "[encoded data removed]",
      "text/plain": [
       "<Figure size 432x288 with 1 Axes>"
      ]
     },
     "metadata": {
      "needs_background": "light"
     },
     "output_type": "display_data"
    }
   ],
   "source": [
    "X = X[X<20] # removing the outlier\n",
    "plt.boxplot(X)\n",
    "plt.show()\n",
    "import seaborn as sns\n",
    "sns.distplot(X, hist=True, kde=True, rug = True,\n",
    "             bins=33, color = 'darkblue', \n",
    "             hist_kws={'edgecolor':'black'},\n",
    "             kde_kws={'linewidth': 4})\n",
    "plt.show()"
   ]
  },
  {
   "cell_type": "code",
   "execution_count": 5,
   "metadata": {},
   "outputs": [
    {
     "name": "stdout",
     "output_type": "stream",
     "text": [
      "p-value = 1.95962e-09, a 2-sided chi squared probability for the hypothesis test.\n",
      "Null hypothesis: x comes from a normal distribution.\n",
      "The null hypothesis can be rejected\n"
     ]
    }
   ],
   "source": [
    "from scipy import stats\n",
    "statistic, p_value = stats.normaltest(X)\n",
    "alpha = 0.01 # critical level\n",
    "print(\"p-value = {:g}, a 2-sided chi squared probability for the hypothesis test.\".format(p_value))\n",
    "\n",
    "print('Null hypothesis: x comes from a normal distribution.')\n",
    "if p_value < alpha:  # null hypothesis: X comes from a normal distribution\n",
    "    print(\"The null hypothesis can be rejected\")\n",
    "else:\n",
    "    print(\"The null hypothesis cannot be rejected\")"
   ]
  },
  {
   "cell_type": "markdown",
   "metadata": {},
   "source": [
    "Therefore the data is in favour of the hypothesis that $X$ is not normally distributed."
   ]
  },
  {
   "cell_type": "markdown",
   "metadata": {},
   "source": [
    "$\\alpha$ is the probabiliy of mistake"
   ]
  },
  {
   "cell_type": "markdown",
   "metadata": {},
   "source": [
    "$$\\alpha = P_{H_0}(H_1)$$"
   ]
  },
  {
   "cell_type": "markdown",
   "metadata": {},
   "source": [
    "The smallest p-value is the more likely alternative will be true."
   ]
  },
  {
   "cell_type": "markdown",
   "metadata": {},
   "source": [
    "A random variable whose distribution does not have $E[(1+Y)^2]=1+2E[Y]^2+E[Y^2]$ can't be Chi-Square distributed."
   ]
  },
  {
   "cell_type": "code",
   "execution_count": 6,
   "metadata": {},
   "outputs": [
    {
     "data": {
      "text/plain": [
       "(55.091702690615485, 107.93168634969572)"
      ]
     },
     "execution_count": 6,
     "metadata": {},
     "output_type": "execute_result"
    }
   ],
   "source": [
    "import numpy as np\n",
    "np.mean((1+X)**2), 1+2*np.mean(X)**2+np.mean(X**2) # ???"
   ]
  },
  {
   "cell_type": "code",
   "execution_count": 7,
   "metadata": {},
   "outputs": [
    {
     "name": "stderr",
     "output_type": "stream",
     "text": [
      "/anaconda3/lib/python3.7/site-packages/scipy/stats/stats.py:1713: FutureWarning: Using a non-tuple sequence for multidimensional indexing is deprecated; use `arr[tuple(seq)]` instead of `arr[seq]`. In the future this will be interpreted as an array index, `arr[np.array(seq)]`, which will result either in an error or a different result.\n",
      "  return np.add.reduce(sorted[indexer] * weights, axis=axis) / sumval\n"
     ]
    },
    {
     "data": {
      "image/png": "[encoded data removed]",
      "text/plain": [
       "<Figure size 432x288 with 1 Axes>"
      ]
     },
     "metadata": {
      "needs_background": "light"
     },
     "output_type": "display_data"
    }
   ],
   "source": [
    "Xs6 = np.random.chisquare(6,300)\n",
    "sns.distplot(Xs6, kde=True, color = 'red', \n",
    "             hist_kws={'edgecolor':'black'},\n",
    "             kde_kws={'linewidth': 4})\n",
    "sns.distplot(X, kde=True, color = 'darkblue', \n",
    "             hist_kws={'edgecolor':'black'},\n",
    "             kde_kws={'linewidth': 4})\n",
    "plt.show()"
   ]
  },
  {
   "cell_type": "code",
   "execution_count": 8,
   "metadata": {},
   "outputs": [],
   "source": [
    "# run linear regr for X = a*Xs + b ??"
   ]
  },
  {
   "cell_type": "markdown",
   "metadata": {},
   "source": [
    "Computes the Kolmogorov-Smirnov statistic on 2 samples.\n",
    "\n",
    "This is a two-sided test for the null hypothesis that 2 independent samples are drawn from the same continuous distribution."
   ]
  },
  {
   "cell_type": "code",
   "execution_count": 9,
   "metadata": {},
   "outputs": [],
   "source": [
    "Xs5 = np.random.chisquare(5,3000)\n",
    "Xs6 = np.random.chisquare(6,3000)\n",
    "Xs7 = np.random.chisquare(7,3000)"
   ]
  },
  {
   "cell_type": "code",
   "execution_count": 10,
   "metadata": {},
   "outputs": [
    {
     "data": {
      "text/plain": [
       "(0.00019811685429657635, 0.19922669342353944, 1.8430098693989283e-07)"
      ]
     },
     "execution_count": 10,
     "metadata": {},
     "output_type": "execute_result"
    }
   ],
   "source": [
    "d, p_value5 = stats.ks_2samp(X, Xs5)\n",
    "d, p_value6 = stats.ks_2samp(X, Xs6)\n",
    "d, p_value7 = stats.ks_2samp(X, Xs7)\n",
    "p_value5, p_value6, p_value7"
   ]
  },
  {
   "cell_type": "markdown",
   "metadata": {},
   "source": [
    "According to Kolmogorov-Smirnov test our variable has Chi-square distribution on the level $\\alpha = 15\\%$."
   ]
  },
  {
   "cell_type": "code",
   "execution_count": null,
   "metadata": {},
   "outputs": [],
   "source": []
  }
 ],
 "metadata": {
  "kernelspec": {
   "display_name": "Python 3",
   "language": "python",
   "name": "python3"
  },
  "language_info": {
   "codemirror_mode": {
    "name": "ipython",
    "version": 3
   },
   "file_extension": ".py",
   "mimetype": "text/x-python",
   "name": "python",
   "nbconvert_exporter": "python",
   "pygments_lexer": "ipython3",
   "version": "3.7.0"
  }
 },
 "nbformat": 4,
 "nbformat_minor": 2
}
