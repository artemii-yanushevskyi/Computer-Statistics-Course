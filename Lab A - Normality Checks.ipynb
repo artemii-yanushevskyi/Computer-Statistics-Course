{
 "cells": [
  {
   "cell_type": "markdown",
   "metadata": {},
   "source": [
    "# Check if A Random Variable is Normally Distributed"
   ]
  },
  {
   "cell_type": "code",
   "execution_count": 1,
   "metadata": {},
   "outputs": [],
   "source": [
    "import pandas as pd"
   ]
  },
  {
   "cell_type": "code",
   "execution_count": 2,
   "metadata": {},
   "outputs": [
    {
     "data": {
      "text/html": [
       "<div>\n",
       "<style scoped>\n",
       "    .dataframe tbody tr th:only-of-type {\n",
       "        vertical-align: middle;\n",
       "    }\n",
       "\n",
       "    .dataframe tbody tr th {\n",
       "        vertical-align: top;\n",
       "    }\n",
       "\n",
       "    .dataframe thead th {\n",
       "        text-align: right;\n",
       "    }\n",
       "</style>\n",
       "<table border=\"1\" class=\"dataframe\">\n",
       "  <thead>\n",
       "    <tr style=\"text-align: right;\">\n",
       "      <th></th>\n",
       "      <th>No</th>\n",
       "      <th>La</th>\n",
       "      <th>LN</th>\n",
       "      <th>Ch</th>\n",
       "      <th>Un</th>\n",
       "      <th>Nl</th>\n",
       "      <th>Ls</th>\n",
       "      <th>C3</th>\n",
       "      <th>U3</th>\n",
       "      <th>Lo</th>\n",
       "    </tr>\n",
       "  </thead>\n",
       "  <tbody>\n",
       "    <tr>\n",
       "      <th>0</th>\n",
       "      <td>2.638118</td>\n",
       "      <td>1.559936</td>\n",
       "      <td>5.796803</td>\n",
       "      <td>2.106319</td>\n",
       "      <td>2.388562</td>\n",
       "      <td>-2.891846</td>\n",
       "      <td>2.194869</td>\n",
       "      <td>2.883311</td>\n",
       "      <td>5.818445</td>\n",
       "      <td>70.021492</td>\n",
       "    </tr>\n",
       "    <tr>\n",
       "      <th>1</th>\n",
       "      <td>2.939677</td>\n",
       "      <td>1.106321</td>\n",
       "      <td>3.120341</td>\n",
       "      <td>5.040086</td>\n",
       "      <td>2.757530</td>\n",
       "      <td>-2.356624</td>\n",
       "      <td>0.835470</td>\n",
       "      <td>4.318595</td>\n",
       "      <td>5.773400</td>\n",
       "      <td>114.122601</td>\n",
       "    </tr>\n",
       "    <tr>\n",
       "      <th>2</th>\n",
       "      <td>2.036079</td>\n",
       "      <td>1.202140</td>\n",
       "      <td>23.299866</td>\n",
       "      <td>3.966322</td>\n",
       "      <td>3.585284</td>\n",
       "      <td>-2.740712</td>\n",
       "      <td>3.455526</td>\n",
       "      <td>12.033311</td>\n",
       "      <td>3.758904</td>\n",
       "      <td>102.786300</td>\n",
       "    </tr>\n",
       "    <tr>\n",
       "      <th>3</th>\n",
       "      <td>4.073466</td>\n",
       "      <td>1.192179</td>\n",
       "      <td>9.952675</td>\n",
       "      <td>3.882852</td>\n",
       "      <td>2.892209</td>\n",
       "      <td>0.038125</td>\n",
       "      <td>0.599163</td>\n",
       "      <td>17.623683</td>\n",
       "      <td>3.209204</td>\n",
       "      <td>9.499374</td>\n",
       "    </tr>\n",
       "    <tr>\n",
       "      <th>4</th>\n",
       "      <td>4.673323</td>\n",
       "      <td>1.839849</td>\n",
       "      <td>4.193463</td>\n",
       "      <td>2.971356</td>\n",
       "      <td>3.083651</td>\n",
       "      <td>2.085697</td>\n",
       "      <td>0.028275</td>\n",
       "      <td>6.324346</td>\n",
       "      <td>3.087344</td>\n",
       "      <td>39.115391</td>\n",
       "    </tr>\n",
       "  </tbody>\n",
       "</table>\n",
       "</div>"
      ],
      "text/plain": [
       "         No        La         LN        Ch        Un        Nl        Ls  \\\n",
       "0  2.638118  1.559936   5.796803  2.106319  2.388562 -2.891846  2.194869   \n",
       "1  2.939677  1.106321   3.120341  5.040086  2.757530 -2.356624  0.835470   \n",
       "2  2.036079  1.202140  23.299866  3.966322  3.585284 -2.740712  3.455526   \n",
       "3  4.073466  1.192179   9.952675  3.882852  2.892209  0.038125  0.599163   \n",
       "4  4.673323  1.839849   4.193463  2.971356  3.083651  2.085697  0.028275   \n",
       "\n",
       "          C3        U3          Lo  \n",
       "0   2.883311  5.818445   70.021492  \n",
       "1   4.318595  5.773400  114.122601  \n",
       "2  12.033311  3.758904  102.786300  \n",
       "3  17.623683  3.209204    9.499374  \n",
       "4   6.324346  3.087344   39.115391  "
      ]
     },
     "execution_count": 2,
     "metadata": {},
     "output_type": "execute_result"
    }
   ],
   "source": [
    "xl = pd.ExcelFile('distrib.xls')\n",
    "# xl.sheet_names\n",
    "df = xl.parse('Лист1')\n",
    "df.head()"
   ]
  },
  {
   "cell_type": "markdown",
   "metadata": {},
   "source": [
    "Are values of random variable __Ch__ normally distributed?"
   ]
  },
  {
   "cell_type": "code",
   "execution_count": 3,
   "metadata": {},
   "outputs": [
    {
     "data": {
      "text/plain": [
       "300"
      ]
     },
     "execution_count": 3,
     "metadata": {},
     "output_type": "execute_result"
    }
   ],
   "source": [
    "X = df[['Ch']].values\n",
    "len(X)"
   ]
  },
  {
   "cell_type": "code",
   "execution_count": 4,
   "metadata": {},
   "outputs": [
    {
     "data": {
      "text/plain": [
       "<Figure size 640x480 with 1 Axes>"
      ]
     },
     "metadata": {},
     "output_type": "display_data"
    }
   ],
   "source": [
    "import matplotlib.pyplot as plt\n",
    "plt.hist(X,bins=30)\n",
    "plt.show()"
   ]
  },
  {
   "cell_type": "markdown",
   "metadata": {},
   "source": [
    "it looks like normal distribution."
   ]
  },
  {
   "cell_type": "markdown",
   "metadata": {},
   "source": [
    "Let's find outlayers using boxplot"
   ]
  },
  {
   "cell_type": "code",
   "execution_count": 5,
   "metadata": {},
   "outputs": [
    {
     "data": {
      "image/png": "[encoded data removed]",
      "text/plain": [
       "<Figure size 432x288 with 1 Axes>"
      ]
     },
     "metadata": {
      "needs_background": "light"
     },
     "output_type": "display_data"
    }
   ],
   "source": [
    "plt.boxplot(X)\n",
    "plt.show()"
   ]
  },
  {
   "cell_type": "markdown",
   "metadata": {},
   "source": [
    "Clearly, there is one outlier. It is far above whiskers."
   ]
  },
  {
   "cell_type": "code",
   "execution_count": 6,
   "metadata": {},
   "outputs": [
    {
     "data": {
      "text/plain": [
       "84.6654321"
      ]
     },
     "execution_count": 6,
     "metadata": {},
     "output_type": "execute_result"
    }
   ],
   "source": [
    "X.max()"
   ]
  },
  {
   "cell_type": "code",
   "execution_count": 7,
   "metadata": {},
   "outputs": [],
   "source": [
    "X = X[X<20]"
   ]
  },
  {
   "cell_type": "code",
   "execution_count": 8,
   "metadata": {},
   "outputs": [],
   "source": [
    "# bin size\n",
    "step = 1\n",
    "n_of_bins = int((X.max() - X.min())/step)"
   ]
  },
  {
   "cell_type": "code",
   "execution_count": 9,
   "metadata": {},
   "outputs": [
    {
     "data": {
      "image/png": "[encoded data removed]",
      "text/plain": [
       "<Figure size 432x288 with 1 Axes>"
      ]
     },
     "metadata": {
      "needs_background": "light"
     },
     "output_type": "display_data"
    },
    {
     "data": {
      "image/png": "[encoded data removed]",
      "text/plain": [
       "<Figure size 432x288 with 1 Axes>"
      ]
     },
     "metadata": {
      "needs_background": "light"
     },
     "output_type": "display_data"
    }
   ],
   "source": [
    "plt.boxplot(X)\n",
    "plt.show()\n",
    "plt.hist(X, bins=n_of_bins)\n",
    "plt.show()"
   ]
  },
  {
   "cell_type": "code",
   "execution_count": 10,
   "metadata": {},
   "outputs": [
    {
     "data": {
      "image/png": "[encoded data removed]",
      "text/plain": [
       "<Figure size 432x288 with 1 Axes>"
      ]
     },
     "metadata": {
      "needs_background": "light"
     },
     "output_type": "display_data"
    }
   ],
   "source": [
    "z = plt.boxplot(X)\n",
    "plt.show()"
   ]
  },
  {
   "cell_type": "code",
   "execution_count": 11,
   "metadata": {},
   "outputs": [
    {
     "data": {
      "text/plain": [
       "{'_stale': False,\n",
       " 'stale_callback': <function matplotlib.artist._stale_axes_callback(self, val)>,\n",
       " '_axes': <matplotlib.axes._subplots.AxesSubplot at 0x11a833b38>,\n",
       " 'figure': <Figure size 432x288 with 1 Axes>,\n",
       " '_transform': <matplotlib.transforms.CompositeGenericTransform at 0x11a878b00>,\n",
       " '_transformSet': True,\n",
       " '_visible': True,\n",
       " '_animated': False,\n",
       " '_alpha': None,\n",
       " 'clipbox': <matplotlib.transforms.TransformedBbox at 0x11a8aa748>,\n",
       " '_clippath': None,\n",
       " '_clipon': True,\n",
       " '_label': '_line2',\n",
       " '_picker': None,\n",
       " '_contains': None,\n",
       " '_rasterized': None,\n",
       " '_agg_filter': None,\n",
       " '_mouseover': False,\n",
       " 'eventson': False,\n",
       " '_oid': 0,\n",
       " '_propobservers': {},\n",
       " '_remove_method': <function matplotlib.axes._base._AxesBase.add_line.<locals>.<lambda>(h)>,\n",
       " '_url': None,\n",
       " '_gid': None,\n",
       " '_snap': None,\n",
       " '_sketch': None,\n",
       " '_path_effects': [],\n",
       " '_sticky_edges': _XYPair(x=[], y=[]),\n",
       " '_dashcapstyle': 'butt',\n",
       " '_dashjoinstyle': 'round',\n",
       " '_solidjoinstyle': 'round',\n",
       " '_solidcapstyle': 'projecting',\n",
       " '_linestyles': None,\n",
       " '_drawstyle': 'default',\n",
       " '_linewidth': 1.0,\n",
       " '_dashSeq': None,\n",
       " '_dashOffset': None,\n",
       " '_us_dashSeq': None,\n",
       " '_us_dashOffset': None,\n",
       " '_linestyle': '-',\n",
       " '_invalidx': False,\n",
       " '_color': 'k',\n",
       " '_marker': <matplotlib.markers.MarkerStyle at 0x11a8aa4a8>,\n",
       " '_markevery': None,\n",
       " '_markersize': 6.0,\n",
       " '_antialiased': True,\n",
       " '_markeredgecolor': 'auto',\n",
       " '_markeredgewidth': 1.0,\n",
       " '_markerfacecolor': 'auto',\n",
       " '_markerfacecoloralt': 'none',\n",
       " 'verticalOffset': None,\n",
       " 'zorder': 2,\n",
       " 'pickradius': 5,\n",
       " 'ind_offset': 0,\n",
       " '_xorig': array([1., 1.]),\n",
       " '_yorig': array([ 7.34972033, 13.37108873]),\n",
       " '_invalidy': False,\n",
       " '_x': array([1., 1.]),\n",
       " '_y': array([ 7.34972033, 13.37108873]),\n",
       " '_xy': array([[ 1.        ,  7.34972033],\n",
       "        [ 1.        , 13.37108873]]),\n",
       " '_path': Path(array([[ 1.        ,  7.34972033],\n",
       "        [ 1.        , 13.37108873]]), None),\n",
       " '_transformed_path': <matplotlib.transforms.TransformedPath at 0x11a76fef0>,\n",
       " '_subslice': False,\n",
       " '_x_filled': None,\n",
       " '_xcid': 4,\n",
       " '_ycid': 4}"
      ]
     },
     "execution_count": 11,
     "metadata": {},
     "output_type": "execute_result"
    }
   ],
   "source": [
    "whiskers = z['whiskers']\n",
    "top_whisker = whiskers[1]\n",
    "top_whisker.__dict__"
   ]
  },
  {
   "cell_type": "code",
   "execution_count": 12,
   "metadata": {},
   "outputs": [],
   "source": [
    "top_box_border_y = top_whisker.get_ydata()[0]\n",
    "top_whisker_y = top_whisker.get_ydata()[1]"
   ]
  },
  {
   "cell_type": "markdown",
   "metadata": {},
   "source": [
    "Let's remove values above top whisker."
   ]
  },
  {
   "cell_type": "code",
   "execution_count": 13,
   "metadata": {},
   "outputs": [],
   "source": [
    "X = X[X<top_whisker_y]"
   ]
  },
  {
   "cell_type": "code",
   "execution_count": 14,
   "metadata": {},
   "outputs": [
    {
     "data": {
      "image/png": "[encoded data removed]",
      "text/plain": [
       "<Figure size 432x288 with 1 Axes>"
      ]
     },
     "metadata": {
      "needs_background": "light"
     },
     "output_type": "display_data"
    }
   ],
   "source": [
    "plt.hist(X, bins=n_of_bins)\n",
    "plt.show()"
   ]
  },
  {
   "cell_type": "markdown",
   "metadata": {},
   "source": [
    "This resembles normal distribution even better."
   ]
  },
  {
   "cell_type": "code",
   "execution_count": 15,
   "metadata": {},
   "outputs": [
    {
     "name": "stderr",
     "output_type": "stream",
     "text": [
      "/anaconda3/lib/python3.7/site-packages/scipy/stats/stats.py:1713: FutureWarning: Using a non-tuple sequence for multidimensional indexing is deprecated; use `arr[tuple(seq)]` instead of `arr[seq]`. In the future this will be interpreted as an array index, `arr[np.array(seq)]`, which will result either in an error or a different result.\n",
      "  return np.add.reduce(sorted[indexer] * weights, axis=axis) / sumval\n"
     ]
    },
    {
     "data": {
      "image/png": "[encoded data removed]",
      "text/plain": [
       "<Figure size 432x288 with 1 Axes>"
      ]
     },
     "metadata": {
      "needs_background": "light"
     },
     "output_type": "display_data"
    }
   ],
   "source": [
    "import seaborn as sns\n",
    "sns.distplot(X, hist=True, kde=True, rug = True,\n",
    "             bins=n_of_bins, color = 'darkblue', \n",
    "             hist_kws={'edgecolor':'black'},\n",
    "             kde_kws={'linewidth': 4})\n",
    "plt.show()"
   ]
  },
  {
   "cell_type": "markdown",
   "metadata": {},
   "source": [
    "Visually, this can be considered as normal. However, let's test the hypothesis formally."
   ]
  },
  {
   "cell_type": "code",
   "execution_count": 16,
   "metadata": {},
   "outputs": [
    {
     "name": "stdout",
     "output_type": "stream",
     "text": [
      "p = 0.000446365\n",
      "The null hypothesis can be rejected\n"
     ]
    }
   ],
   "source": [
    "from scipy import stats\n",
    "k2, p = stats.normaltest(X)\n",
    "alpha = 0.01\n",
    "print(\"p = {:g}\".format(p))\n",
    "\n",
    "if p < alpha:  # null hypothesis: x comes from a normal distribution\n",
    "    print(\"The null hypothesis can be rejected\")\n",
    "else:\n",
    "    print(\"The null hypothesis cannot be rejected\")\n"
   ]
  },
  {
   "cell_type": "markdown",
   "metadata": {},
   "source": [
    "Theoretically, it is 99% chance that it is __not__ in fact a normally distributed random variable. ??"
   ]
  },
  {
   "cell_type": "markdown",
   "metadata": {},
   "source": [
    "Finding out if it fits to normal scale. (It should be close to the red line)"
   ]
  },
  {
   "cell_type": "code",
   "execution_count": 17,
   "metadata": {},
   "outputs": [
    {
     "data": {
      "image/png": "[encoded data removed]",
      "text/plain": [
       "<Figure size 432x288 with 1 Axes>"
      ]
     },
     "metadata": {
      "needs_background": "light"
     },
     "output_type": "display_data"
    }
   ],
   "source": [
    "import pylab \n",
    "import scipy.stats as stats\n",
    "\n",
    "stats.probplot(X, dist=\"norm\", plot=pylab)\n",
    "pylab.show()"
   ]
  },
  {
   "cell_type": "markdown",
   "metadata": {},
   "source": [
    "## Shapiro-Wilk\n",
    "\n",
    "Perform the Shapiro-Wilk test for normality.\n",
    "\n",
    "The Shapiro-Wilk test tests the null hypothesis that the data was drawn from a normal distribution."
   ]
  },
  {
   "cell_type": "code",
   "execution_count": 33,
   "metadata": {},
   "outputs": [
    {
     "data": {
      "text/plain": [
       "1.23890833947371e-06"
      ]
     },
     "execution_count": 33,
     "metadata": {},
     "output_type": "execute_result"
    }
   ],
   "source": [
    "import scipy.stats as stats\n",
    "p_value = stats.shapiro(X)[1] # : float\n",
    "# The p-value for the hypothesis test.\n",
    "p_value"
   ]
  },
  {
   "cell_type": "markdown",
   "metadata": {},
   "source": [
    "Such p-value means that the distribution is not even close to be Normal."
   ]
  },
  {
   "cell_type": "markdown",
   "metadata": {},
   "source": [
    "# Misc"
   ]
  },
  {
   "cell_type": "code",
   "execution_count": 19,
   "metadata": {},
   "outputs": [
    {
     "data": {
      "text/plain": [
       "['Лист1']"
      ]
     },
     "execution_count": 19,
     "metadata": {},
     "output_type": "execute_result"
    }
   ],
   "source": [
    "xl = pd.ExcelFile(\"kaffee.xls\")\n",
    "xl.sheet_names"
   ]
  },
  {
   "cell_type": "code",
   "execution_count": 20,
   "metadata": {},
   "outputs": [
    {
     "data": {
      "text/html": [
       "<div>\n",
       "<style scoped>\n",
       "    .dataframe tbody tr th:only-of-type {\n",
       "        vertical-align: middle;\n",
       "    }\n",
       "\n",
       "    .dataframe tbody tr th {\n",
       "        vertical-align: top;\n",
       "    }\n",
       "\n",
       "    .dataframe thead th {\n",
       "        text-align: right;\n",
       "    }\n",
       "</style>\n",
       "<table border=\"1\" class=\"dataframe\">\n",
       "  <thead>\n",
       "    <tr style=\"text-align: right;\">\n",
       "      <th></th>\n",
       "      <th>menge</th>\n",
       "      <th>preis</th>\n",
       "      <th>nummer</th>\n",
       "      <th>marke</th>\n",
       "      <th>dauer</th>\n",
       "      <th>alter</th>\n",
       "      <th>klasse</th>\n",
       "      <th>einkm</th>\n",
       "      <th>persn</th>\n",
       "      <th>prbew</th>\n",
       "      <th>bildg</th>\n",
       "      <th>treue</th>\n",
       "    </tr>\n",
       "  </thead>\n",
       "  <tbody>\n",
       "    <tr>\n",
       "      <th>1</th>\n",
       "      <td>1</td>\n",
       "      <td>1</td>\n",
       "      <td>1</td>\n",
       "      <td>4</td>\n",
       "      <td>11</td>\n",
       "      <td>2</td>\n",
       "      <td>5</td>\n",
       "      <td>1</td>\n",
       "      <td>2</td>\n",
       "      <td>1</td>\n",
       "      <td>2</td>\n",
       "      <td>1</td>\n",
       "    </tr>\n",
       "    <tr>\n",
       "      <th>2</th>\n",
       "      <td>2</td>\n",
       "      <td>2</td>\n",
       "      <td>8</td>\n",
       "      <td>8</td>\n",
       "      <td>13</td>\n",
       "      <td>2</td>\n",
       "      <td>2</td>\n",
       "      <td>3</td>\n",
       "      <td>4</td>\n",
       "      <td>4</td>\n",
       "      <td>3</td>\n",
       "      <td>1</td>\n",
       "    </tr>\n",
       "    <tr>\n",
       "      <th>3</th>\n",
       "      <td>1</td>\n",
       "      <td>3</td>\n",
       "      <td>14</td>\n",
       "      <td>9</td>\n",
       "      <td>24</td>\n",
       "      <td>2</td>\n",
       "      <td>1</td>\n",
       "      <td>4</td>\n",
       "      <td>4</td>\n",
       "      <td>4</td>\n",
       "      <td>3</td>\n",
       "      <td>2</td>\n",
       "    </tr>\n",
       "    <tr>\n",
       "      <th>4</th>\n",
       "      <td>1</td>\n",
       "      <td>2</td>\n",
       "      <td>17</td>\n",
       "      <td>1</td>\n",
       "      <td>57</td>\n",
       "      <td>4</td>\n",
       "      <td>4</td>\n",
       "      <td>2</td>\n",
       "      <td>1</td>\n",
       "      <td>1</td>\n",
       "      <td>2</td>\n",
       "      <td>2</td>\n",
       "    </tr>\n",
       "    <tr>\n",
       "      <th>5</th>\n",
       "      <td>1</td>\n",
       "      <td>3</td>\n",
       "      <td>20</td>\n",
       "      <td>7</td>\n",
       "      <td>15</td>\n",
       "      <td>3</td>\n",
       "      <td>4</td>\n",
       "      <td>2</td>\n",
       "      <td>2</td>\n",
       "      <td>1</td>\n",
       "      <td>3</td>\n",
       "      <td>1</td>\n",
       "    </tr>\n",
       "  </tbody>\n",
       "</table>\n",
       "</div>"
      ],
      "text/plain": [
       "   menge  preis  nummer  marke  dauer  alter  klasse  einkm  persn  prbew  \\\n",
       "1      1      1       1      4     11      2       5      1      2      1   \n",
       "2      2      2       8      8     13      2       2      3      4      4   \n",
       "3      1      3      14      9     24      2       1      4      4      4   \n",
       "4      1      2      17      1     57      4       4      2      1      1   \n",
       "5      1      3      20      7     15      3       4      2      2      1   \n",
       "\n",
       "   bildg  treue  \n",
       "1      2      1  \n",
       "2      3      1  \n",
       "3      3      2  \n",
       "4      2      2  \n",
       "5      3      1  "
      ]
     },
     "execution_count": 20,
     "metadata": {},
     "output_type": "execute_result"
    }
   ],
   "source": [
    "df = xl.parse(\"Лист1\")\n",
    "df.head()"
   ]
  },
  {
   "cell_type": "markdown",
   "metadata": {},
   "source": [
    "We are using $\\chi^2$ criterium to check if random variables are dependant or not.\n",
    "\n",
    "$$\\hat\\chi^2_{(N-1)(M-1)}=\\sum_i^N\\sum_j^M\\frac{(n_{ij}-\\hat n_{ij})^2}{\\hat n_{ij}}$$\n",
    "\n",
    "$$\\text{freedom levels}= N\\cdot M -1 - (M-1) -(N-1)=(N-1)(M-1)$$"
   ]
  },
  {
   "cell_type": "code",
   "execution_count": 21,
   "metadata": {},
   "outputs": [
    {
     "data": {
      "image/png": "[encoded data removed]",
      "text/plain": [
       "<Figure size 432x288 with 1 Axes>"
      ]
     },
     "metadata": {
      "needs_background": "light"
     },
     "output_type": "display_data"
    },
    {
     "data": {
      "image/png": "[encoded data removed]",
      "text/plain": [
       "<Figure size 432x288 with 1 Axes>"
      ]
     },
     "metadata": {
      "needs_background": "light"
     },
     "output_type": "display_data"
    },
    {
     "name": "stdout",
     "output_type": "stream",
     "text": [
      "p = 0.936987\n",
      "The null hypothesis cannot be rejected\n"
     ]
    }
   ],
   "source": [
    "# df[['preis', 'marke']]\n",
    "import numpy as np\n",
    "import matplotlib.pyplot as plt\n",
    "ksi = np.random.normal(20, .4, 100)\n",
    "plt.scatter(np.arange(1, 101, 1), ksi, s = 10)\n",
    "plt.show()\n",
    "plt.scatter(ksi, np.zeros(100), s=1, c='black')\n",
    "plt.show()\n",
    "from scipy import stats\n",
    "k2, p = stats.normaltest(ksi)\n",
    "alpha = 0.001\n",
    "print(\"p = {:g}\".format(p))\n",
    "\n",
    "if p < alpha:  # null hypothesis: x comes from a normal distribution\n",
    "    print(\"The null hypothesis can be rejected\")\n",
    "else:\n",
    "    print(\"The null hypothesis cannot be rejected\")\n"
   ]
  },
  {
   "cell_type": "code",
   "execution_count": 22,
   "metadata": {},
   "outputs": [],
   "source": [
    "mu, sigma = 0, 1\n",
    "X1 = np.random.normal(mu, sigma, 100)\n",
    "X2 = np.random.normal(2, sigma, 100)"
   ]
  },
  {
   "cell_type": "code",
   "execution_count": 23,
   "metadata": {},
   "outputs": [],
   "source": [
    "y = 3 + 2*X1 - X2 + np.random.normal(0, .25, 100)"
   ]
  },
  {
   "cell_type": "code",
   "execution_count": 24,
   "metadata": {},
   "outputs": [
    {
     "data": {
      "image/png": "[encoded data removed]",
      "text/plain": [
       "<Figure size 432x288 with 1 Axes>"
      ]
     },
     "metadata": {
      "needs_background": "light"
     },
     "output_type": "display_data"
    }
   ],
   "source": [
    "plt.hist(y)\n",
    "plt.show()"
   ]
  },
  {
   "cell_type": "code",
   "execution_count": 25,
   "metadata": {},
   "outputs": [
    {
     "data": {
      "text/plain": [
       "array([[ 1.        ,  0.89961152, -0.52750959],\n",
       "       [ 0.89961152,  1.        , -0.11615453],\n",
       "       [-0.52750959, -0.11615453,  1.        ]])"
      ]
     },
     "execution_count": 25,
     "metadata": {},
     "output_type": "execute_result"
    }
   ],
   "source": [
    "np.corrcoef([y, X1, X2])"
   ]
  },
  {
   "cell_type": "code",
   "execution_count": 26,
   "metadata": {},
   "outputs": [
    {
     "data": {
      "text/plain": [
       "(0.899611524543417, 4.866656436721634e-37)"
      ]
     },
     "execution_count": 26,
     "metadata": {},
     "output_type": "execute_result"
    }
   ],
   "source": [
    "from scipy.stats.stats import pearsonr\n",
    "pearsonr(y, X1)"
   ]
  },
  {
   "cell_type": "code",
   "execution_count": 27,
   "metadata": {},
   "outputs": [
    {
     "data": {
      "text/plain": [
       "array([[ 2.35975037,  0.86432956],\n",
       "       [-1.81985037, -1.30081567],\n",
       "       [-0.45969732, -0.57198526],\n",
       "       [ 2.8003795 ,  0.61009165],\n",
       "       [-1.84200494, -0.94912083]])"
      ]
     },
     "execution_count": 27,
     "metadata": {},
     "output_type": "execute_result"
    }
   ],
   "source": [
    "df = pd.DataFrame(np.concatenate([y[:,None], X1[:,None], X2[:,None]], axis=1))\n",
    "df[[0,1]][:5].values"
   ]
  },
  {
   "cell_type": "code",
   "execution_count": 28,
   "metadata": {},
   "outputs": [
    {
     "data": {
      "image/png": "[encoded data removed]",
      "text/plain": [
       "<Figure size 432x288 with 1 Axes>"
      ]
     },
     "metadata": {
      "needs_background": "light"
     },
     "output_type": "display_data"
    }
   ],
   "source": [
    "plt.boxplot([y, X1, X2])\n",
    "plt.show()"
   ]
  },
  {
   "cell_type": "code",
   "execution_count": 29,
   "metadata": {},
   "outputs": [
    {
     "data": {
      "image/png": "[encoded data removed]",
      "text/plain": [
       "<Figure size 432x288 with 1 Axes>"
      ]
     },
     "metadata": {
      "needs_background": "light"
     },
     "output_type": "display_data"
    }
   ],
   "source": [
    "import numpy as np \n",
    "import pylab \n",
    "import scipy.stats as stats\n",
    "\n",
    "stats.probplot(df[0], dist=\"norm\", plot=pylab)\n",
    "pylab.show()"
   ]
  },
  {
   "cell_type": "code",
   "execution_count": 30,
   "metadata": {},
   "outputs": [
    {
     "name": "stdout",
     "output_type": "stream",
     "text": [
      "[ 1.00000000e+00 -1.48899914e-16] 1.1102230246251565e-15\n"
     ]
    }
   ],
   "source": [
    "import numpy as np\n",
    "from sklearn.linear_model import LinearRegression\n",
    "\n",
    "reg = LinearRegression().fit(df[[0,1]].values, y)\n",
    "\n",
    "# reg.score(X1[:,None], y)\n",
    "\n",
    "print(reg.coef_, reg.intercept_) "
   ]
  },
  {
   "cell_type": "code",
   "execution_count": 31,
   "metadata": {},
   "outputs": [
    {
     "name": "stdout",
     "output_type": "stream",
     "text": [
      "[  1.   2.   3.   4.   5.   6.   7.   8.   9.  10.  11.  12.  13.  14.\n",
      "  15.  16.  17.  18.  19.  20.  21.  22.  23.  24.  25.  26.  27.  28.\n",
      "  29.  30.  31.  32.  33.  34.  35.  36.  37.  38.  39.  40.  41.  42.\n",
      "  43.  44.  45.  46.  47.  48.  49.  50.  51.  52.  53.  54.  55.  56.\n",
      "  57.  58.  59.  60.  61.  62.  63.  64.  65.  66.  67.  68.  69.  70.\n",
      "  71.  72.  73.  74.  75.  76.  77.  78.  79.  80.  81.  82.  83.  84.\n",
      "  85.  86.  87.  88.  89.  90.  91.  92.  93.  94.  95.  96.  97.  98.\n",
      "  99. 100.]\n"
     ]
    },
    {
     "data": {
      "text/plain": [
       "array([  1,   2,   3,   4,   5,   6,   7,   8,   9,  10,  11,  12,  13,\n",
       "        14,  15,  16,  17,  18,  19,  20,  21,  22,  23,  24,  25,  26,\n",
       "        27,  28,  29,  30,  31,  32,  33,  34,  35,  36,  37,  38,  39,\n",
       "        40,  41,  42,  43,  44,  45,  46,  47,  48,  49,  50,  51,  52,\n",
       "        53,  54,  55,  56,  57,  58,  59,  60,  61,  62,  63,  64,  65,\n",
       "        66,  67,  68,  69,  70,  71,  72,  73,  74,  75,  76,  77,  78,\n",
       "        79,  80,  81,  82,  83,  84,  85,  86,  87,  88,  89,  90,  91,\n",
       "        92,  93,  94,  95,  96,  97,  98,  99, 100])"
      ]
     },
     "execution_count": 31,
     "metadata": {},
     "output_type": "execute_result"
    }
   ],
   "source": [
    "print(np.linspace(1, 100, 100)) # start, stop, number of points\n",
    "np.arange(1,100 + 1,1) # like range(1,101, 1)"
   ]
  }
 ],
 "metadata": {
  "kernelspec": {
   "display_name": "Python 3",
   "language": "python",
   "name": "python3"
  },
  "language_info": {
   "codemirror_mode": {
    "name": "ipython",
    "version": 3
   },
   "file_extension": ".py",
   "mimetype": "text/x-python",
   "name": "python",
   "nbconvert_exporter": "python",
   "pygments_lexer": "ipython3",
   "version": "3.7.0"
  }
 },
 "nbformat": 4,
 "nbformat_minor": 2
}
